{
 "cells": [
  {
   "cell_type": "markdown",
   "id": "dabe72f1",
   "metadata": {},
   "source": [
    "Q1- Explain the following with an example :\n",
    "\n",
    "1) Artificial IntKlligence\n",
    "\n",
    "2) Machine Learning\n",
    "\n",
    "3) Deep Learning\n",
    "\n"
   ]
  },
  {
   "cell_type": "markdown",
   "id": "61438fe7",
   "metadata": {},
   "source": [
    "Artificial Intelligence (AI): AI refers to the simulation of human intelligence in machines that can perform tasks typically requiring human intelligence. Examples include virtual assistants like Siri and Alexa, recommendation systems like Netflix, and autonomous vehicles.\n",
    "\n",
    "Machine Learning (ML): ML is a subset of AI that involves algorithms that can learn from data and make predictions or decisions without being explicitly programmed. Examples include spam email filtering, image recognition in social media apps, and predictive maintenance in manufacturing.\n",
    "\n",
    "Deep Learning: Deep Learning is a subfield of ML that uses neural networks with multiple layers (deep architectures) to learn hierarchical representations of data. Examples include voice recognition systems like Google Assistant, language translation services like Google Translate, and medical image analysis for diagnosing diseases."
   ]
  },
  {
   "cell_type": "markdown",
   "id": "d32de632",
   "metadata": {},
   "source": [
    "Q2- What is supervised learning? List some examples of supervised learning.\n",
    "\n"
   ]
  },
  {
   "cell_type": "markdown",
   "id": "6f088c07",
   "metadata": {},
   "source": [
    "Supervised learning is a type of machine learning where the model is trained on labeled data, meaning the input data is paired with corresponding output labels. The goal is for the model to learn the mapping between input-output pairs so that it can make accurate predictions or decisions on new, unseen data.\n",
    "\n",
    "Email spam classification: Given labeled emails (spam or not spam), the model learns to classify new emails as either spam or not spam.\n",
    "\n",
    "Handwritten digit recognition: Given labeled images of handwritten digits (0-9), the model learns to recognize and classify new handwritten digits."
   ]
  },
  {
   "cell_type": "markdown",
   "id": "ddca1fee",
   "metadata": {},
   "source": [
    "Q3- What is unsupervised learning? List some examples of unsupervised learning.\n",
    "\n"
   ]
  },
  {
   "cell_type": "markdown",
   "id": "74d22b8d",
   "metadata": {},
   "source": [
    "Unsupervised learning is a type of machine learning where the model is trained on unlabeled data, meaning the input data does not have corresponding output labels. The goal is for the model to find patterns, structure, or relationships in the data without explicit guidance on what to learn.\n",
    "\n",
    "Examples of unsupervised learning include:\n",
    "\n",
    "Clustering: Grouping similar data points together based on their features. Examples include customer segmentation in marketing, grouping similar news articles, or clustering images based on visual similarity.\n",
    "\n",
    "Dimensionality reduction: Reducing the number of features or variables in the data while preserving important information. Examples include Principal Component Analysis (PCA) and t-distributed Stochastic Neighbor Embedding (t-SNE)."
   ]
  },
  {
   "cell_type": "markdown",
   "id": "f44114e9",
   "metadata": {},
   "source": [
    "Q4- What is the difference between AI, ML, DL, and DS?\n"
   ]
  },
  {
   "cell_type": "markdown",
   "id": "6dfaf596",
   "metadata": {},
   "source": [
    "AI is the overarching field of creating intelligent systems.\n",
    "\n",
    "ML is a subset of AI focused on developing algorithms that learn from data.\n",
    "\n",
    "DL is a subset of ML that uses deep neural networks for learning complex patterns.\n",
    "\n",
    "DS is a broader field that encompasses data analysis, modeling, and extracting actionable insights from data using various techniques including ML."
   ]
  },
  {
   "cell_type": "markdown",
   "id": "fe1d972e",
   "metadata": {},
   "source": [
    "\n",
    "Q5- What are the main differences between supervised, unsupervised, and semi-supervised learning?\n",
    "\n"
   ]
  },
  {
   "cell_type": "markdown",
   "id": "c1dcd6a5",
   "metadata": {},
   "source": [
    "Supervised learning uses labeled data for training and aims to learn the input-output mapping.\n",
    "\n",
    "Unsupervised learning uses unlabeled data for discovering patterns or structures in the data.\n",
    "\n",
    "Semi-supervised learning combines labeled and unlabeled data, offering a balance between supervised and unsupervised approaches."
   ]
  },
  {
   "cell_type": "markdown",
   "id": "5a6d7b35",
   "metadata": {},
   "source": [
    "Q6- What is train, test and validation split? Explain the importance of each term.\n",
    "\n"
   ]
  },
  {
   "cell_type": "markdown",
   "id": "7e722893",
   "metadata": {},
   "source": [
    "Training Set: Used to train the model by learning from labeled data.\n",
    "\n",
    "Test Set: Used to evaluate the trained model's performance on new, unseen data.\n",
    "\n",
    "Validation Set: Used for tuning model hyperparameters and preventing overfitting during training."
   ]
  },
  {
   "cell_type": "markdown",
   "id": "e44b35dc",
   "metadata": {},
   "source": [
    "Q7- How can unsupervised learning be used in anomaly detection?\n",
    "\n"
   ]
  },
  {
   "cell_type": "markdown",
   "id": "661a91e5",
   "metadata": {},
   "source": [
    "Unsupervised learning in anomaly detection uses algorithms like clustering, density estimation, Isolation Forests, or One-Class SVM to identify data points that deviate significantly from the majority of the data, without using labeled anomaly examples.\n",
    "\n",
    "\n",
    "\n",
    "\n",
    "\n",
    "\n"
   ]
  },
  {
   "cell_type": "markdown",
   "id": "a57c79b6",
   "metadata": {},
   "source": [
    "Q8- List down some commonly used supervised learning algorithms and unsupervised learning \n",
    "algorithms"
   ]
  },
  {
   "cell_type": "markdown",
   "id": "30297058",
   "metadata": {},
   "source": [
    "Supervised Learning Algorithms:\n",
    "\n",
    "Linear Regression<br>\n",
    "Logistic Regression<br>\n",
    "Decision Trees<br>\n",
    "Random Forests<br>\n",
    "Support Vector Machines (SVM)<br>\n",
    "k-Nearest Neighbors (k-NN)<br>\n",
    "Gradient Boosting Machines (GBM)<br>\n",
    "Neural Networks (Deep Learning)<br>\n",
    "\n",
    "Unsupervised Learning Algorithms:\n",
    "\n",
    "K-Means Clustering<br>\n",
    "Hierarchical Clustering<br>\n",
    "DBSCAN (Density-Based Spatial Clustering of Applications with Noise)<br>\n",
    "Gaussian Mixture Models (GMM)<br>\n",
    "Principal Component Analysis (PCA)<br>\n",
    "t-distributed Stochastic Neighbor Embedding (t-SNE)<br>\n",
    "Isolation Forests<br>\n",
    "One-Class Support Vector Machines (SVM)<br>\n",
    "\n",
    "\n",
    "\n",
    "\n",
    "\n"
   ]
  },
  {
   "cell_type": "code",
   "execution_count": null,
   "id": "1e7e87d7",
   "metadata": {},
   "outputs": [],
   "source": []
  }
 ],
 "metadata": {
  "kernelspec": {
   "display_name": "Python 3 (ipykernel)",
   "language": "python",
   "name": "python3"
  },
  "language_info": {
   "codemirror_mode": {
    "name": "ipython",
    "version": 3
   },
   "file_extension": ".py",
   "mimetype": "text/x-python",
   "name": "python",
   "nbconvert_exporter": "python",
   "pygments_lexer": "ipython3",
   "version": "3.9.13"
  }
 },
 "nbformat": 4,
 "nbformat_minor": 5
}
