{
 "cells": [
  {
   "cell_type": "markdown",
   "id": "4c972d7a",
   "metadata": {},
   "source": [
    "Q1. Pearson correlation coefficient is a measure of the linear relationship between two variables. Suppose \n",
    "you have collected data on the amount of time students spend studying for an exam and their final exam \n",
    "scores. Calculate the Pearson correlation coefficient between these two variables and interpret the result.\n",
    "\n"
   ]
  },
  {
   "cell_type": "code",
   "execution_count": 1,
   "id": "3584f855",
   "metadata": {},
   "outputs": [
    {
     "name": "stdout",
     "output_type": "stream",
     "text": [
      "Pearson Correlation Coefficient: 1.00\n",
      "There is a positive linear relationship between time spent studying and final exam scores.\n"
     ]
    }
   ],
   "source": [
    "from scipy.stats import pearsonr\n",
    "\n",
    "# Sample data (time spent studying and final exam scores)\n",
    "time_spent = [10, 20, 15, 25, 30]  # in hours\n",
    "exam_scores = [60, 70, 65, 75, 80]\n",
    "\n",
    "# Calculate Pearson correlation coefficient\n",
    "corr_coefficient, p_value = pearsonr(time_spent, exam_scores)\n",
    "\n",
    "# Print the correlation coefficient\n",
    "print(f\"Pearson Correlation Coefficient: {corr_coefficient:.2f}\")\n",
    "\n",
    "# Interpretation of the result\n",
    "if corr_coefficient > 0:\n",
    "    print(\"There is a positive linear relationship between time spent studying and final exam scores.\")\n",
    "elif corr_coefficient < 0:\n",
    "    print(\"There is a negative linear relationship between time spent studying and final exam scores.\")\n",
    "else:\n",
    "    print(\"There is no linear relationship between time spent studying and final exam scores.\")\n"
   ]
  },
  {
   "cell_type": "markdown",
   "id": "7e27331f",
   "metadata": {},
   "source": [
    "Q2. Spearman's rank correlation is a measure of the monotonic relationship between two variables. \n",
    "Suppose you have collected data on the amount of sleep individuals get each night and their overall job \n",
    "satisfaction level on a scale of 1 to 10. Calculate the Spearman's rank correlation between these two \n",
    "variables and interpret the result.\n",
    "\n"
   ]
  },
  {
   "cell_type": "code",
   "execution_count": 2,
   "id": "70566ae3",
   "metadata": {},
   "outputs": [
    {
     "name": "stdout",
     "output_type": "stream",
     "text": [
      "Spearman's Rank Correlation Coefficient: 0.97\n",
      "There is a positive monotonic relationship between amount of sleep and job satisfaction.\n"
     ]
    }
   ],
   "source": [
    "from scipy.stats import spearmanr\n",
    "\n",
    "# Sample data (amount of sleep and job satisfaction)\n",
    "sleep_hours = [7, 6, 8, 5, 6]  # hours of sleep per night\n",
    "job_satisfaction = [8, 7, 9, 5, 6]  # on a scale of 1 to 10\n",
    "\n",
    "# Calculate Spearman's rank correlation coefficient\n",
    "corr_coefficient, p_value = spearmanr(sleep_hours, job_satisfaction)\n",
    "\n",
    "# Print the correlation coefficient\n",
    "print(f\"Spearman's Rank Correlation Coefficient: {corr_coefficient:.2f}\")\n",
    "\n",
    "# Interpretation of the result\n",
    "if corr_coefficient > 0:\n",
    "    print(\"There is a positive monotonic relationship between amount of sleep and job satisfaction.\")\n",
    "elif corr_coefficient < 0:\n",
    "    print(\"There is a negative monotonic relationship between amount of sleep and job satisfaction.\")\n",
    "else:\n",
    "    print(\"There is no monotonic relationship between amount of sleep and job satisfaction.\")\n"
   ]
  },
  {
   "cell_type": "markdown",
   "id": "b3ab2924",
   "metadata": {},
   "source": [
    "Q3. Suppose you are conducting a study to examine the relationship between the number of hours of \n",
    "exercise per week and body mass index (BMI) in a sample of adults. You collected data on both variables \n",
    "for 50 participants. Calculate the Pearson correlation coefficient and the Spearman's rank correlation \n",
    "between these two variables and compare the results.\n",
    "\n"
   ]
  },
  {
   "cell_type": "code",
   "execution_count": 3,
   "id": "9991cb65",
   "metadata": {},
   "outputs": [
    {
     "name": "stdout",
     "output_type": "stream",
     "text": [
      "Pearson Correlation Coefficient: 0.06, p-value: 0.6678\n",
      "Spearman's Rank Correlation Coefficient: 0.08, p-value: 0.5642\n"
     ]
    }
   ],
   "source": [
    "import numpy as np\n",
    "from scipy.stats import pearsonr, spearmanr\n",
    "\n",
    "# Generate sample data for hours of exercise per week and BMI\n",
    "np.random.seed(42)\n",
    "hours_exercise = np.random.uniform(1, 10, 50)  # 50 random values between 1 and 10\n",
    "bmi = np.random.uniform(18, 35, 50)  # 50 random values between 18 and 35 (normal BMI range)\n",
    "\n",
    "# Calculate Pearson correlation coefficient\n",
    "pearson_corr, pearson_p_value = pearsonr(hours_exercise, bmi)\n",
    "\n",
    "# Calculate Spearman's rank correlation coefficient\n",
    "spearman_corr, spearman_p_value = spearmanr(hours_exercise, bmi)\n",
    "\n",
    "# Print the correlation coefficients and p-values\n",
    "print(f\"Pearson Correlation Coefficient: {pearson_corr:.2f}, p-value: {pearson_p_value:.4f}\")\n",
    "print(f\"Spearman's Rank Correlation Coefficient: {spearman_corr:.2f}, p-value: {spearman_p_value:.4f}\")\n"
   ]
  },
  {
   "cell_type": "markdown",
   "id": "75755a02",
   "metadata": {},
   "source": [
    "Q4. A researcher is interested in examining the relationship between the number of hours individuals \n",
    "spend watching television per day and their level of physical activity. The researcher collected data on \n",
    "both variables from a sample of 50 participants. Calculate the Pearson correlation coefficient between \n",
    "these two variables"
   ]
  },
  {
   "cell_type": "code",
   "execution_count": 4,
   "id": "7a354fc4",
   "metadata": {},
   "outputs": [
    {
     "name": "stdout",
     "output_type": "stream",
     "text": [
      "Pearson Correlation Coefficient: 0.06\n"
     ]
    }
   ],
   "source": [
    "from scipy.stats import pearsonr\n",
    "import numpy as np\n",
    "\n",
    "# Generate sample data for hours of TV watching and physical activity level\n",
    "np.random.seed(42)\n",
    "hours_tv = np.random.uniform(1, 6, 50)  # 50 random values between 1 and 6 (hours)\n",
    "physical_activity = np.random.uniform(1, 10, 50)  # 50 random values between 1 and 10\n",
    "\n",
    "# Calculate Pearson correlation coefficient\n",
    "corr_coefficient, p_value = pearsonr(hours_tv, physical_activity)\n",
    "\n",
    "# Print the correlation coefficient\n",
    "print(f\"Pearson Correlation Coefficient: {corr_coefficient:.2f}\")\n"
   ]
  },
  {
   "cell_type": "markdown",
   "id": "201c008e",
   "metadata": {},
   "source": [
    "Q5. A company is interested in examining the relationship between the number of sales calls made per day \n",
    "and the number of sales made per week. The company collected data on both variables from a sample of \n",
    "30 sales representatives. Calculate the Pearson correlation coefficient between these two variables"
   ]
  },
  {
   "cell_type": "code",
   "execution_count": 5,
   "id": "5f7d28a4",
   "metadata": {},
   "outputs": [
    {
     "name": "stdout",
     "output_type": "stream",
     "text": [
      "Pearson Correlation Coefficient: 0.16\n"
     ]
    }
   ],
   "source": [
    "from scipy.stats import pearsonr\n",
    "import numpy as np\n",
    "\n",
    "# Generate sample data for sales calls per day and sales per week\n",
    "np.random.seed(42)\n",
    "calls_per_day = np.random.randint(20, 50, 30)  # 30 random values between 20 and 50\n",
    "sales_per_week = np.random.randint(5, 20, 30)  # 30 random values between 5 and 20\n",
    "\n",
    "# Calculate Pearson correlation coefficient\n",
    "corr_coefficient, p_value = pearsonr(calls_per_day, sales_per_week)\n",
    "\n",
    "# Print the correlation coefficient\n",
    "print(f\"Pearson Correlation Coefficient: {corr_coefficient:.2f}\")\n"
   ]
  }
 ],
 "metadata": {
  "kernelspec": {
   "display_name": "Python 3 (ipykernel)",
   "language": "python",
   "name": "python3"
  },
  "language_info": {
   "codemirror_mode": {
    "name": "ipython",
    "version": 3
   },
   "file_extension": ".py",
   "mimetype": "text/x-python",
   "name": "python",
   "nbconvert_exporter": "python",
   "pygments_lexer": "ipython3",
   "version": "3.9.13"
  }
 },
 "nbformat": 4,
 "nbformat_minor": 5
}
